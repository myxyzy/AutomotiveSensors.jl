{
 "cells": [
  {
   "cell_type": "code",
   "execution_count": 1,
   "metadata": {},
   "outputs": [],
   "source": [
    "using AutomotiveSensors"
   ]
  },
  {
   "cell_type": "code",
   "execution_count": 2,
   "metadata": {},
   "outputs": [
    {
     "name": "stderr",
     "output_type": "stream",
     "text": [
      "WARNING: Method definition info(Any...) in module Base at util.jl:532 overwritten in module Logging at /mnt/c/Users/Maxime/wsl/.julia/v0.6/Logging/src/Logging.jl:115.\n",
      "WARNING: Method definition warn(Any...) in module Base at util.jl:585 overwritten in module Logging at /mnt/c/Users/Maxime/wsl/.julia/v0.6/Logging/src/Logging.jl:115.\n",
      "WARNING: Method definition copy!(Array{Float64, 1}, AutomotiveDrivingModels.LatLonAccel) in module AutomotiveDrivingModels at /mnt/c/Users/Maxime/wsl/.julia/v0.6/AutomotiveDrivingModels/src/2d/actions/lat_lon_accel.jl:13 overwritten in module AutoUrban at /mnt/c/Users/Maxime/wsl/.julia/v0.6/AutoUrban/src/simulation/actions.jl:10.\n"
     ]
    }
   ],
   "source": [
    "using AutomotiveDrivingModels\n",
    "using AutoViz\n",
    "using AutomotivePOMDPs\n",
    "using POMDPs\n",
    "using Reel"
   ]
  },
  {
   "cell_type": "code",
   "execution_count": 3,
   "metadata": {},
   "outputs": [],
   "source": [
    "rng = MersenneTwister(1)\n",
    "cam = StaticCamera(VecE2(0., -8.), 16.0);"
   ]
  },
  {
   "cell_type": "markdown",
   "metadata": {},
   "source": [
    "## Test Environment"
   ]
  },
  {
   "cell_type": "code",
   "execution_count": 4,
   "metadata": {},
   "outputs": [],
   "source": [
    "params = UrbanParams(nlanes_main=1,\n",
    "                     crosswalk_pos =[VecSE2(6, 0., pi/2), VecSE2(-6, 0., pi/2), VecSE2(0., -5., 0.)],\n",
    "                     crosswalk_length =  [14.0, 14., 14.0],\n",
    "                     crosswalk_width = [4.0, 4.0, 3.1],\n",
    "                     stop_line = 22.0)\n",
    "env = UrbanEnv(params=params);\n",
    "pomdp = UrbanPOMDP(env=env,\n",
    "                   ego_goal = LaneTag(2, 1),\n",
    "                   max_cars=1, \n",
    "                   max_peds=1, \n",
    "                   car_birth=0.7, \n",
    "                   ped_birth=0.3, \n",
    "                   obstacles=true, # no fixed obstacles\n",
    "                   lidar=false,\n",
    "                   pos_obs_noise = 0., # fully observable\n",
    "                   vel_obs_noise = 0.,\n",
    "                   ego_start=20,\n",
    "                   ΔT=0.1);"
   ]
  },
  {
   "cell_type": "markdown",
   "metadata": {},
   "source": [
    "## Visualize Sensor Measurements"
   ]
  },
  {
   "cell_type": "code",
   "execution_count": 5,
   "metadata": {},
   "outputs": [
    {
     "data": {
      "text/plain": [
       "AutomotiveSensors.GaussianSensor{AutomotiveSensors.LinearNoise,AutomotiveSensors.LinearNoise}\n",
       "  pos_noise: AutomotiveSensors.LinearNoise\n",
       "  vel_noise: AutomotiveSensors.LinearNoise\n",
       "  false_positive_rate: Float64 0.1\n",
       "  false_negative_rate: Float64 0.1\n",
       "  rng: MersenneTwister\n"
      ]
     },
     "execution_count": 5,
     "metadata": {},
     "output_type": "execute_result"
    }
   ],
   "source": [
    "sensor = GaussianSensor()"
   ]
  },
  {
   "cell_type": "code",
   "execution_count": 6,
   "metadata": {},
   "outputs": [
    {
     "ename": "LoadError",
     "evalue": "\u001b[91mUndefVarError: AutomotivePOMDPs not defined\u001b[39m",
     "output_type": "error",
     "traceback": [
      "\u001b[91mUndefVarError: AutomotivePOMDPs not defined\u001b[39m",
      "",
      "Stacktrace:",
      " [1] \u001b[1mocclusion_checker\u001b[22m\u001b[22m\u001b[1m(\u001b[22m\u001b[22m::AutomotiveDrivingModels.VehicleState, ::AutomotiveDrivingModels.VehicleState, ::Array{AutomotiveDrivingModels.ConvexPolygon,1}\u001b[1m)\u001b[22m\u001b[22m at \u001b[1m/home/maxime/Maxime/OneDrive - Leland Stanford Junior University/Research/AutomotiveSensors/src/occlusion_checker.jl:23\u001b[22m\u001b[22m",
      " [2] \u001b[1mmeasure\u001b[22m\u001b[22m\u001b[1m(\u001b[22m\u001b[22m::AutomotiveSensors.GaussianSensor{AutomotiveSensors.LinearNoise,AutomotiveSensors.LinearNoise}, ::Records.Entity{AutomotiveDrivingModels.VehicleState,AutomotiveDrivingModels.VehicleDef,Int64}, ::Records.Entity{AutomotiveDrivingModels.VehicleState,AutomotiveDrivingModels.VehicleDef,Int64}, ::Array{AutomotiveDrivingModels.ConvexPolygon,1}, ::MersenneTwister\u001b[1m)\u001b[22m\u001b[22m at \u001b[1m/home/maxime/Maxime/OneDrive - Leland Stanford Junior University/Research/AutomotiveSensors/src/Gaussian_sensor.jl:39\u001b[22m\u001b[22m",
      " [3] \u001b[1mmeasure\u001b[22m\u001b[22m\u001b[1m(\u001b[22m\u001b[22m::AutomotiveSensors.GaussianSensor{AutomotiveSensors.LinearNoise,AutomotiveSensors.LinearNoise}, ::Records.Entity{AutomotiveDrivingModels.VehicleState,AutomotiveDrivingModels.VehicleDef,Int64}, ::Records.Frame{Records.Entity{AutomotiveDrivingModels.VehicleState,AutomotiveDrivingModels.VehicleDef,Int64}}, ::Array{AutomotiveDrivingModels.ConvexPolygon,1}\u001b[1m)\u001b[22m\u001b[22m at \u001b[1m/home/maxime/Maxime/OneDrive - Leland Stanford Junior University/Research/AutomotiveSensors/src/Gaussian_sensor.jl:30\u001b[22m\u001b[22m"
     ]
    }
   ],
   "source": [
    "s0 = initial_state(pomdp, rng)\n",
    "ego = get_ego(s0)\n",
    "o = measure(sensor, ego, s0, env.obstacles)\n",
    "occlusion_overlay = OcclusionOverlay(obstacles=pomdp.env.obstacles)\n",
    "overlay = GaussianSensorOverlay(sensor=sensor, o=o)\n",
    "render(s0, pomdp.env, [overlay, occlusion_overlay, IDOverlay()], cam=cam)"
   ]
  },
  {
   "cell_type": "markdown",
   "metadata": {},
   "source": [
    "## State Estimator"
   ]
  },
  {
   "cell_type": "code",
   "execution_count": 7,
   "metadata": {},
   "outputs": [
    {
     "name": "stderr",
     "output_type": "stream",
     "text": [
      "WARNING: Method definition ==(AutomotiveDrivingModels.VehicleState, AutomotiveDrivingModels.VehicleState) in module AutomotiveDrivingModels at /mnt/c/Users/Maxime/wsl/.julia/v0.6/AutomotiveDrivingModels/src/2d/vehicles/vehicles.jl:15 overwritten in module PedCar at /home/maxime/Maxime/OneDrive - Leland Stanford Junior University/Research/PedCar/src/mdp_type.jl:29.\n"
     ]
    }
   ],
   "source": [
    "using PedCar"
   ]
  },
  {
   "cell_type": "code",
   "execution_count": 8,
   "metadata": {},
   "outputs": [],
   "source": [
    "using ParticleFilters"
   ]
  },
  {
   "cell_type": "code",
   "execution_count": 9,
   "metadata": {},
   "outputs": [
    {
     "data": {
      "text/plain": [
       "2000"
      ]
     },
     "execution_count": 9,
     "metadata": {},
     "output_type": "execute_result"
    }
   ],
   "source": [
    "update_freq = 0.1\n",
    "const N_PARTICLES = 2000"
   ]
  },
  {
   "cell_type": "code",
   "execution_count": 10,
   "metadata": {},
   "outputs": [],
   "source": [
    "mdp = PedCarMDP(env=env, pos_res=2.0, vel_res=2., ped_birth=0., car_birth=0.3, ΔT = update_freq);\n",
    "init_transition!(mdp)\n",
    "car_model = CarStateEstimator(mdp, 2, ego, sensor)\n",
    "ped_model = PedStateEstimator(mdp, 101, ego, sensor)\n",
    "# particle filter for each vehicles\n",
    "car_filter = SimpleParticleFilter(car_model, LowVarianceResampler(N_PARTICLES));\n",
    "ped_filter = SimpleParticleFilter(ped_model, LowVarianceResampler(N_PARTICLES));"
   ]
  },
  {
   "cell_type": "code",
   "execution_count": 11,
   "metadata": {
    "scrolled": false
   },
   "outputs": [
    {
     "data": {
      "image/png": "[encoded data removed]",
      "text/plain": [
       "Cairo.CairoSurface{UInt32}(Ptr{Void} @0x00000000055b3aa0, 1000.0, 600.0, #undef)"
      ]
     },
     "execution_count": 11,
     "metadata": {},
     "output_type": "execute_result"
    }
   ],
   "source": [
    "car_b0 = init_car_belief(car_model.mdp, N_PARTICLES, rng);\n",
    "ped_b0 = init_ped_belief(ped_model.mdp, N_PARTICLES, rng)\n",
    "s0 = initial_state(pomdp, rng)\n",
    "ego = get_ego(s0)\n",
    "car_filter.model.ego = ego\n",
    "ped_filter.model.ego = ego\n",
    "o = measure(sensor, ego, s0, env.obstacles)\n",
    "ped_b = update(ped_filter, ped_b0, o)\n",
    "car_b = update(car_filter, car_b0, o);\n",
    "obs_overlay = GaussianSensorOverlay(sensor=sensor, o=o)\n",
    "car_belief_overlay = ParticleOverlay(mdp=car_model.mdp, b=car_b)\n",
    "ped_belief_overlay = ParticleOverlay(mdp=ped_model.mdp, b=ped_b)\n",
    "render(s0, pomdp.env, [obs_overlay, car_belief_overlay, ped_belief_overlay, IDOverlay()], cam=StaticCamera(VecE2(0., -8.), 16.0))"
   ]
  },
  {
   "cell_type": "code",
   "execution_count": 16,
   "metadata": {},
   "outputs": [
    {
     "name": "stdout",
     "output_type": "stream",
     "text": [
      "  1.574355 seconds (13.86 M allocations: 1.171 GiB, 19.96% gc time)\n"
     ]
    }
   ],
   "source": [
    "n_steps = 100 \n",
    "scene_hist = Vector{Scene}()\n",
    "car_belief_hist = Vector{ParticleCollection{CarState}}()\n",
    "ped_belief_hist = Vector{ParticleCollection{VehicleState}}()\n",
    "obs_hist = Vector{Vector{Vehicle}}()\n",
    "\n",
    "s = initial_state(pomdp, rng)\n",
    "car_b = init_car_belief(car_model.mdp, N_PARTICLES, rng);\n",
    "ped_b = init_ped_belief(ped_model.mdp, N_PARTICLES, rng)\n",
    "\n",
    "\n",
    "push!(scene_hist,deepcopy(s))\n",
    "push!(car_belief_hist,deepcopy(car_b))\n",
    "push!(ped_belief_hist,deepcopy(ped_b))\n",
    "@time for i=1:n_steps\n",
    "    ego = get_ego(s)\n",
    "    car_filter.model.ego = ego\n",
    "    ped_filter.model.ego = ego\n",
    "    o = measure(sensor, ego, s, env.roadway, env.obstacles)\n",
    "    ped_b = update(ped_filter, ped_b, o)\n",
    "    car_b = update(car_filter, car_b, o);\n",
    "    s = generate_s(pomdp, s, UrbanAction(0.), rng)\n",
    "    push!(obs_hist, deepcopy(o))\n",
    "    push!(scene_hist, deepcopy(s))\n",
    "    push!(car_belief_hist,deepcopy(car_b))\n",
    "    push!(ped_belief_hist,deepcopy(ped_b))   \n",
    "end"
   ]
  },
  {
   "cell_type": "code",
   "execution_count": 19,
   "metadata": {
    "scrolled": false
   },
   "outputs": [
    {
     "data": {
      "text/html": [
       "<video autoplay controls><source src=\"files/reel-5064270553531738514.webm?18263928835580324356\" type=\"video/webm\"></video>"
      ],
      "text/plain": [
       "Reel.Frames{MIME{Symbol(\"image/png\")}}(\"/tmp/tmpnQu7yx\", 0x0000000000000065, 10.0, nothing)"
      ]
     },
     "execution_count": 19,
     "metadata": {},
     "output_type": "execute_result"
    }
   ],
   "source": [
    "duration, fps, render_hist = animate_scenes(scene_hist, obs_hist, car_belief_hist, ped_belief_hist, mdp, sim_dt=pomdp.ΔT)\n",
    "speed_factor = 1\n",
    "film = roll(render_hist, fps = speed_factor*fps, duration = duration/speed_factor)"
   ]
  },
  {
   "cell_type": "code",
   "execution_count": 18,
   "metadata": {},
   "outputs": [],
   "source": [
    "function AutomotivePOMDPs.animate_scenes(scenes::Vector{Scene},\n",
    "                        observations::Vector{Vector{Vehicle}},\n",
    "                        car_beliefs::Vector{ParticleCollection{CarState}},\n",
    "                        ped_beliefs::Vector{ParticleCollection{VehicleState}},\n",
    "                        mdp;\n",
    "                        cam=StaticCamera(VecE2(0., -8.), 16.0),\n",
    "                        sim_dt=0.1)\n",
    "    env = mdp.env\n",
    "    duration =length(scenes)*sim_dt\n",
    "    fps = Int(1/sim_dt)\n",
    "    function render_rec(t, dt)\n",
    "        frame_index = Int(floor(t/dt)) + 1\n",
    "        overlays = SceneOverlay[IDOverlay()]\n",
    "        occlusion_overlay = OcclusionOverlay(obstacles=mdp.env.obstacles)\n",
    "        push!(overlays, occlusion_overlay)\n",
    "        if frame_index > 1\n",
    "            obs_overlay = GaussianSensorOverlay(sensor=sensor, o=observations[frame_index-1], color=MONOKAI[\"color2\"])\n",
    "            push!(overlays, obs_overlay)            \n",
    "        end\n",
    "        car_belief_overlay = ParticleOverlay(mdp=mdp, b=car_beliefs[frame_index])\n",
    "        ped_belief_overlay = ParticleOverlay(mdp=mdp, b=ped_beliefs[frame_index])\n",
    "        push!(overlays, car_belief_overlay)\n",
    "        push!(overlays, ped_belief_overlay)\n",
    "        return AutoViz.render(scenes[frame_index],\n",
    "                              env,\n",
    "                              overlays,\n",
    "                              cam=cam,\n",
    "                              car_colors=get_colors(scenes[frame_index]))\n",
    "    end\n",
    "    return duration, fps, render_rec\n",
    "end\n"
   ]
  },
  {
   "cell_type": "code",
   "execution_count": 15,
   "metadata": {},
   "outputs": [],
   "source": [
    "using ProfileView"
   ]
  },
  {
   "cell_type": "code",
   "execution_count": 16,
   "metadata": {},
   "outputs": [],
   "source": [
    "Profile.clear()"
   ]
  },
  {
   "cell_type": "code",
   "execution_count": 17,
   "metadata": {},
   "outputs": [
    {
     "name": "stderr",
     "output_type": "stream",
     "text": [
      "20-Aug 17:46:52:WARNING:root:There were no samples collected. Run your program longer (perhaps by\n",
      "running it multiple times), or adjust the delay between samples with\n",
      "Profile.init().\n"
     ]
    },
    {
     "ename": "LoadError",
     "evalue": "\u001b[91mNothing to view\u001b[39m",
     "output_type": "error",
     "traceback": [
      "\u001b[91mNothing to view\u001b[39m",
      "",
      "Stacktrace:",
      " [1] \u001b[1mprepare_data\u001b[22m\u001b[22m\u001b[1m(\u001b[22m\u001b[22m::Array{UInt64,1}, ::Void\u001b[1m)\u001b[22m\u001b[22m at \u001b[1m/mnt/c/Users/Maxime/wsl/.julia/v0.6/ProfileView/src/ProfileView.jl:76\u001b[22m\u001b[22m",
      " [2] \u001b[1m#prepare#2\u001b[22m\u001b[22m\u001b[1m(\u001b[22m\u001b[22m::Bool, ::Void, ::Bool, ::Bool, ::Array{Any,1}, ::Function, ::Array{UInt64,1}\u001b[1m)\u001b[22m\u001b[22m at \u001b[1m/mnt/c/Users/Maxime/wsl/.julia/v0.6/ProfileView/src/ProfileView.jl:68\u001b[22m\u001b[22m",
      " [3] \u001b[1m(::ProfileView.#kw##prepare)\u001b[22m\u001b[22m\u001b[1m(\u001b[22m\u001b[22m::Array{Any,1}, ::ProfileView.#prepare, ::Array{UInt64,1}\u001b[1m)\u001b[22m\u001b[22m at \u001b[1m./<missing>:0\u001b[22m\u001b[22m",
      " [4] \u001b[1m#view#1\u001b[22m\u001b[22m\u001b[1m(\u001b[22m\u001b[22m::Bool, ::Void, ::Bool, ::Int64, ::Bool, ::Array{Any,1}, ::Function, ::Array{UInt64,1}\u001b[1m)\u001b[22m\u001b[22m at \u001b[1m/mnt/c/Users/Maxime/wsl/.julia/v0.6/ProfileView/src/ProfileViewSVG.jl:10\u001b[22m\u001b[22m",
      " [5] \u001b[1m(::ProfileViewSVG.#kw##view)\u001b[22m\u001b[22m\u001b[1m(\u001b[22m\u001b[22m::Array{Any,1}, ::ProfileViewSVG.#view, ::Array{UInt64,1}\u001b[1m)\u001b[22m\u001b[22m at \u001b[1m./<missing>:0\u001b[22m\u001b[22m",
      " [6] \u001b[1mview\u001b[22m\u001b[22m\u001b[1m(\u001b[22m\u001b[22m\u001b[1m)\u001b[22m\u001b[22m at \u001b[1m/mnt/c/Users/Maxime/wsl/.julia/v0.6/ProfileView/src/ProfileView.jl:49\u001b[22m\u001b[22m"
     ]
    }
   ],
   "source": [
    "ProfileView.view()"
   ]
  },
  {
   "cell_type": "code",
   "execution_count": null,
   "metadata": {},
   "outputs": [],
   "source": []
  }
 ],
 "metadata": {
  "kernelspec": {
   "display_name": "Julia 0.6.1",
   "language": "julia",
   "name": "julia-0.6"
  },
  "language_info": {
   "file_extension": ".jl",
   "mimetype": "application/julia",
   "name": "julia",
   "version": "0.6.1"
  }
 },
 "nbformat": 4,
 "nbformat_minor": 2
}
